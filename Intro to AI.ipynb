{
 "cells": [
  {
   "cell_type": "code",
   "execution_count": 153,
   "metadata": {},
   "outputs": [],
   "source": [
    "import numpy as np\n",
    "import copy"
   ]
  },
  {
   "cell_type": "code",
   "execution_count": 154,
   "metadata": {},
   "outputs": [
    {
     "name": "stdout",
     "output_type": "stream",
     "text": [
      "[ 0  1  2  3  4  5  6  7  8  9 10 11]\n",
      "[[ 0  1  2  3]\n",
      " [ 4  5  6  7]\n",
      " [ 8  9 10 11]]\n"
     ]
    }
   ],
   "source": [
    "x = np.array(range(12))\n",
    "print(x)\n",
    "x = x.reshape(3,4)\n",
    "print(x)"
   ]
  },
  {
   "cell_type": "code",
   "execution_count": 155,
   "metadata": {},
   "outputs": [
    {
     "name": "stdout",
     "output_type": "stream",
     "text": [
      "0\n",
      "1\n",
      "2\n",
      "4\n",
      "5\n",
      "6\n",
      "8\n",
      "9\n",
      "10\n"
     ]
    }
   ],
   "source": [
    "for i in range(3):\n",
    "    for j in range(3):\n",
    "        print(x[i,j])\n",
    "    "
   ]
  },
  {
   "cell_type": "code",
   "execution_count": 156,
   "metadata": {},
   "outputs": [
    {
     "name": "stdout",
     "output_type": "stream",
     "text": [
      "2\n"
     ]
    }
   ],
   "source": [
    "print(x[0,2])"
   ]
  },
  {
   "cell_type": "code",
   "execution_count": 157,
   "metadata": {},
   "outputs": [
    {
     "name": "stdout",
     "output_type": "stream",
     "text": [
      "(3, 4)\n"
     ]
    }
   ],
   "source": [
    "print(x.shape)"
   ]
  },
  {
   "cell_type": "markdown",
   "metadata": {},
   "source": [
    "## Function to swap"
   ]
  },
  {
   "cell_type": "code",
   "execution_count": 158,
   "metadata": {},
   "outputs": [],
   "source": [
    "def swap(pos_1_row, pos_1_col, pos_2_row, pos_2_col, state):\n",
    "    '''\n",
    "    This function swaps the contents of the state given source(empty place) and destination\n",
    "    \n",
    "    @params - \n",
    "            pos_1_row -> row index of empty place\n",
    "            pos_1_col -> col index of empty place\n",
    "            pos_2_row -> row index of place to be swapped with empty place\n",
    "            pos_2_col -> col index of place to be swapped with empty place\n",
    "            state -> the state where the swap is to be made\n",
    "            \n",
    "    @return - \n",
    "            new_state -> new state with the source and destination swapped\n",
    "    '''\n",
    "    \n",
    "    #create new state\n",
    "    new_state = copy.deepcopy(state)\n",
    "    # print(new_state) # debug\n",
    "\n",
    "    # make the swap with empty in the new state \n",
    "    new_state[pos_1_row, pos_1_col] = new_state[pos_1_row, pos_1_col] + new_state[pos_2_row, pos_2_col]\n",
    "    new_state[pos_2_row, pos_2_col] = new_state[pos_1_row, pos_1_col] - new_state[pos_2_row, pos_2_col]\n",
    "    new_state[pos_1_row, pos_1_col] = new_state[pos_1_row, pos_1_col] - new_state[pos_2_row, pos_2_col]\n",
    "    \n",
    "    return new_state\n",
    "    \n",
    "    "
   ]
  },
  {
   "cell_type": "markdown",
   "metadata": {},
   "source": [
    "#### Test swap()"
   ]
  },
  {
   "cell_type": "markdown",
   "metadata": {},
   "source": [
    "Our test array"
   ]
  },
  {
   "cell_type": "code",
   "execution_count": 159,
   "metadata": {},
   "outputs": [
    {
     "name": "stdout",
     "output_type": "stream",
     "text": [
      "[[ 0  1  2  3]\n",
      " [ 4  5  6  7]\n",
      " [ 8  9 10 11]]\n"
     ]
    }
   ],
   "source": [
    "x = np.array(range(12))\n",
    "x = x.reshape(3,4)\n",
    "print(x)"
   ]
  },
  {
   "cell_type": "markdown",
   "metadata": {},
   "source": [
    "Lets try to swap 0 with 5 "
   ]
  },
  {
   "cell_type": "code",
   "execution_count": 160,
   "metadata": {},
   "outputs": [
    {
     "name": "stdout",
     "output_type": "stream",
     "text": [
      "[[ 5  1  2  3]\n",
      " [ 4  0  6  7]\n",
      " [ 8  9 10 11]]\n"
     ]
    }
   ],
   "source": [
    "# our indices\n",
    "pos_1_row = 0\n",
    "pos_1_col = 0\n",
    "pos_2_row = 1\n",
    "pos_2_col = 1\n",
    "\n",
    "# swap\n",
    "new_state = swap(pos_1_row, pos_1_col, pos_2_row, pos_2_col, x)\n",
    "print(new_state)"
   ]
  },
  {
   "cell_type": "markdown",
   "metadata": {},
   "source": [
    "Lets try one more swap"
   ]
  },
  {
   "cell_type": "code",
   "execution_count": 161,
   "metadata": {},
   "outputs": [
    {
     "name": "stdout",
     "output_type": "stream",
     "text": [
      "[[10  1  2  3]\n",
      " [ 4  5  6  7]\n",
      " [ 8  9  0 11]]\n"
     ]
    }
   ],
   "source": [
    "y = copy.deepcopy(x)\n",
    "y[2,2] = 0\n",
    "y[0,0] = 10\n",
    "print(y)"
   ]
  },
  {
   "cell_type": "markdown",
   "metadata": {},
   "source": [
    "Lets swap 7 with 0"
   ]
  },
  {
   "cell_type": "code",
   "execution_count": 162,
   "metadata": {},
   "outputs": [
    {
     "name": "stdout",
     "output_type": "stream",
     "text": [
      "[[10  1  2  3]\n",
      " [ 4  5  6  0]\n",
      " [ 8  9  7 11]]\n"
     ]
    }
   ],
   "source": [
    "# our indices\n",
    "pos_1_row = 2\n",
    "pos_1_col = 2\n",
    "pos_2_row = 1\n",
    "pos_2_col = 3\n",
    "\n",
    "# swap\n",
    "new_state = swap(pos_1_row, pos_1_col, pos_2_row, pos_2_col, y)\n",
    "print(new_state)"
   ]
  },
  {
   "cell_type": "markdown",
   "metadata": {},
   "source": [
    "## Function to find possible states"
   ]
  },
  {
   "cell_type": "markdown",
   "metadata": {},
   "source": [
    "#### Rule to break ties\n",
    "#### UP > UP –RIGHT > RIGHT > DOWN- RIGHT > DOWN > DOWN –LEFT > LEFT > UP–LEFT"
   ]
  },
  {
   "cell_type": "code",
   "execution_count": 163,
   "metadata": {},
   "outputs": [],
   "source": [
    "# return a list of possible moves\n",
    "def possible_moves(curr_state):\n",
    "    '''\n",
    "    This function calulates all the possible child states given a state\n",
    "    @params -\n",
    "            curr_state -> The parent state\n",
    "    @return -\n",
    "            possible_states -> A list of possible moves\n",
    "    \n",
    "    '''\n",
    "    '''\n",
    "    UP > UP –RIGHT > RIGHT > DOWN- RIGHT > DOWN > DOWN –LEFT > LEFT > UP–LEFT\n",
    "    (most preferred moves)                            (least preferred moves)\n",
    "    '''\n",
    "    \n",
    "    '''\n",
    "    [i,j]- i is row, j is column\n",
    "    possible moves is 8 \n",
    "    \n",
    "    [i-1, j]-> move up\n",
    "    [i-1, j+1]-> move up-right\n",
    "    [i, j+1]-> move right\n",
    "    [i+1, j+1]-> move down-right\n",
    "    [i+1, j]-> move down\n",
    "    [i+1, j-1]-> move down-left\n",
    "    [i, j-1]-> move left\n",
    "    [i-1, j-1]-> move up-left\n",
    "    '''\n",
    "    index_moves = [[-1,0], [-1,1], [0,1], [1,1], [1,0], [1,-1], [0,-1], [-1,-1]]\n",
    "    index_move_dir = [\"up\",\"up-right\",\"right\",\"down-right\",\"down\",\"down-left\",\"left\",\"up-left\"]\n",
    "    possible_states = []\n",
    "    \n",
    "    \n",
    "    # find empty space\n",
    "    empty_space = np.where(curr_state == 0)\n",
    "    row_empty = int(empty_space[0])\n",
    "    col_empty = int(empty_space[1])\n",
    "    \n",
    "    #note numpy shape gives 1-indexed row and column\n",
    "    row = curr_state.shape[0] - 1\n",
    "    col = curr_state.shape[1] - 1\n",
    "    \n",
    "    empty_space = [row_empty, col_empty]\n",
    "    \n",
    "    for i in range(len(index_moves)):\n",
    "        pos_2_row = row_empty + index_moves[i][0]\n",
    "        pos_2_col = col_empty + index_moves[i][1]\n",
    "        # check for invalid moves\n",
    "        if(pos_2_row<0 or pos_2_row>row or pos_2_col<0 or pos_2_col>col):\n",
    "            continue\n",
    "        state = copy.deepcopy(curr_state)\n",
    "        possible_states.append([swap(row_empty, col_empty, pos_2_row, pos_2_col, state),index_move_dir[i]])\n",
    "        \n",
    "    return possible_states\n",
    "    \n",
    "    "
   ]
  },
  {
   "cell_type": "markdown",
   "metadata": {},
   "source": [
    "#### Test possible_moves()"
   ]
  },
  {
   "cell_type": "code",
   "execution_count": 164,
   "metadata": {},
   "outputs": [
    {
     "name": "stdout",
     "output_type": "stream",
     "text": [
      "[[ 0  1  2  3]\n",
      " [ 4  5  6  7]\n",
      " [ 8  9 10 11]]\n",
      "\n",
      "------------------MOVES------------------\n",
      "[[ 1  0  2  3]\n",
      " [ 4  5  6  7]\n",
      " [ 8  9 10 11]] right\n",
      "\n",
      "[[ 5  1  2  3]\n",
      " [ 4  0  6  7]\n",
      " [ 8  9 10 11]] down-right\n",
      "\n",
      "[[ 4  1  2  3]\n",
      " [ 0  5  6  7]\n",
      " [ 8  9 10 11]] down\n",
      "\n"
     ]
    }
   ],
   "source": [
    "print(x)\n",
    "print()\n",
    "print(\"------------------MOVES------------------\")\n",
    "possible_states = possible_moves(x)\n",
    "for i in possible_states:\n",
    "    print(i[0], i[1])\n",
    "    print()"
   ]
  },
  {
   "cell_type": "code",
   "execution_count": 165,
   "metadata": {},
   "outputs": [
    {
     "name": "stdout",
     "output_type": "stream",
     "text": [
      "[[10  1  2  3]\n",
      " [ 4  5  6  7]\n",
      " [ 8  9  0 11]]\n",
      "\n",
      "------------------MOVES------------------\n",
      "[[10  1  2  3]\n",
      " [ 4  5  0  7]\n",
      " [ 8  9  6 11]] up\n",
      "\n",
      "[[10  1  2  3]\n",
      " [ 4  5  6  0]\n",
      " [ 8  9  7 11]] up-right\n",
      "\n",
      "[[10  1  2  3]\n",
      " [ 4  5  6  7]\n",
      " [ 8  9 11  0]] right\n",
      "\n",
      "[[10  1  2  3]\n",
      " [ 4  5  6  7]\n",
      " [ 8  0  9 11]] left\n",
      "\n",
      "[[10  1  2  3]\n",
      " [ 4  0  6  7]\n",
      " [ 8  9  5 11]] up-left\n",
      "\n"
     ]
    }
   ],
   "source": [
    "print(y)\n",
    "print()\n",
    "print(\"------------------MOVES------------------\")\n",
    "possible_states = possible_moves(y)\n",
    "for i in possible_states:\n",
    "    print(i[0], i[1])\n",
    "    print()"
   ]
  },
  {
   "cell_type": "markdown",
   "metadata": {},
   "source": [
    "## Heuristic ***(Simple Manhattan Distance)***"
   ]
  },
  {
   "cell_type": "code",
   "execution_count": 166,
   "metadata": {},
   "outputs": [],
   "source": [
    "def manhattan_h(curr_state, goal_state):\n",
    "    '''\n",
    "    This function calculates the distance between current state and goal by calculating the sum of manhattan distance\n",
    "    between two misplaced tiles.\n",
    "    \n",
    "    @params - \n",
    "        curr_state -> The current state\n",
    "        goal_state -> The goal state\n",
    "    @return -\n",
    "        tot_distance -> The distance between two states\n",
    "    '''\n",
    "    #note numpy shape gives 1-indexed row and column\n",
    "    row = curr_state.shape[0]\n",
    "    col = curr_state.shape[1]\n",
    "    \n",
    "    tot_dist = 0\n",
    "    for i in range(row*col):\n",
    "        curr_pos_i = np.where(curr_state == i)\n",
    "        goal_pos_i = np.where(goal_state == i)\n",
    "        manhattan_dist = abs(curr_pos_i[0] - goal_pos_i[0]) + abs(curr_pos_i[1] - goal_pos_i[1])\n",
    "        tot_dist = int(manhattan_dist) + tot_dist\n",
    "\n",
    "    return tot_dist\n",
    "        \n",
    "        "
   ]
  },
  {
   "cell_type": "markdown",
   "metadata": {},
   "source": [
    "#### Test manhattan_h()"
   ]
  },
  {
   "cell_type": "code",
   "execution_count": 167,
   "metadata": {},
   "outputs": [
    {
     "name": "stdout",
     "output_type": "stream",
     "text": [
      "8\n"
     ]
    }
   ],
   "source": [
    "print(manhattan_h(y,x)) #should print 8"
   ]
  },
  {
   "cell_type": "markdown",
   "metadata": {},
   "source": [
    "## Best First Search"
   ]
  },
  {
   "cell_type": "code",
   "execution_count": 290,
   "metadata": {},
   "outputs": [],
   "source": [
    "def best_first_search(curr_state, goal_state, heuristic):\n",
    "    \n",
    "    # to be searched priority queue [start by putting starting state here]\n",
    "    # movement priority\n",
    "    index_move_priority = [\"up\",\"up-right\",\"right\",\"down-right\",\"down\",\"down-left\",\"left\",\"up-left\"]\n",
    "    \n",
    "    # our priority queue\n",
    "    open_nodes = {}\n",
    "    \n",
    "    # explored nodes\n",
    "    explored_nodes = []\n",
    "    \n",
    "    # put current state in queue\n",
    "    open_nodes.setdefault(heuristic(curr_state, goal_state), [[curr_state,\"up\"]])\n",
    "    print(\"BLYAT\",open_nodes)\n",
    "    # while open_nodes is not empty\n",
    "    GOAL_FOUND = False\n",
    "    count = 0\n",
    "    print(\">>>>>>>>>>>>>>>\",list(open_nodes.values()))\n",
    "    while(not not open_nodes):\n",
    "#         print(open_nodes)\n",
    "        # using dictionary as priority queue since our keys are heuristic values[int] \n",
    "        count = count + 1\n",
    "        \n",
    "#         if count>4:\n",
    "            \n",
    "#             return (explored_list, GOAL_FOUND)\n",
    "        keylist = list(open_nodes.keys()) # Note python uses hash to generate hash for dictionary\n",
    "                                    # Since map(hash,[0,1,2,3]) gives [0,1,2,3]) \n",
    "                                    # https://www.laurentluce.com/posts/python-dictionary-implementation/\n",
    "        \n",
    "        # get next node from priority queue\n",
    "        find_neighbor_node = None\n",
    "        temp = False\n",
    "        for move in index_move_priority:\n",
    "            for item in open_nodes[keylist[0]]: # item in list of states\n",
    "                if move == item[1]:\n",
    "                    print(\"KLYST\",keylist[0])\n",
    "                    print(\"////////////////\",open_nodes[keylist[0]])\n",
    "                    print(\"ITEM->\",item)\n",
    "                    print(type(open_nodes[keylist[0]]))\n",
    "                    print(type(item))\n",
    "                    open_nodes[keylist[0]].remove(item)\n",
    "                    find_neighbor_node = item\n",
    "                    temp = True\n",
    "                    break\n",
    "            if temp == True:\n",
    "                break\n",
    "        print(\"find_neighbor\", find_neighbor_node)           \n",
    "        # add the node to explored list\n",
    "        explored_nodes.append(find_neighbor_node)\n",
    "        \n",
    "        # find neighbors\n",
    "        neighbors = possible_moves(find_neighbor_node[0])\n",
    "#         print(neighbors)\n",
    "        # apply heuristic to each neighbor and put it to priority queue iff it is not in explored_list or open_node\n",
    "        open_list = [] #expensive operation\n",
    "#         print(\">>>>>>>>>>>>>>>\",list(open_nodes.values()))\n",
    "        for list_of_list in list(open_nodes.values()):\n",
    "#             print(\"HHH\",list_of_list)\n",
    "            for sub_list in list_of_list:\n",
    "                for sub_sub_list in sub_list:\n",
    "                    if type(sub_sub_list) == str:\n",
    "                        continue\n",
    "                    open_list.append(sub_sub_list.tolist())\n",
    "                \n",
    "        \n",
    "        explored_list = []\n",
    "        \n",
    "        for sub_list in explored_nodes:\n",
    "            explored_list.append(sub_list[0].tolist())\n",
    "        \n",
    "        print(\"OPEN\",open_list)\n",
    "        print(\"EXP_LIST\",explored_list)\n",
    "        # iterate over neighbor\n",
    "        count_2 = 0\n",
    "        for neighbor in neighbors:\n",
    "#             print(neighbor)\n",
    "            # if neighbor is goal state return solution\n",
    "            if np.array_equal(neighbor[0], goal_state):\n",
    "                GOAL_FOUND = True\n",
    "                explored_nodes.append(neighbor)\n",
    "                break\n",
    "            count_2 = count_2 + 1\n",
    "            print(count_2)\n",
    "            # check if nieghbor is already in open_node or explored_list. If present then skip loop\n",
    "            print(\"HERE \", neighbor[0],  end=\"\", flush=True)\n",
    "#             print(explored_list)\n",
    "            temp = neighbor[0].tolist()\n",
    "            if temp in explored_list or temp in open_list:\n",
    "                continue\n",
    "            \n",
    "            # calculate the heuristic and put in priority queue open_nodes\n",
    "            h = heuristic(neighbor[0],goal_state)\n",
    "            print(h)\n",
    "            open_nodes.setdefault(h,[]).append(neighbor)\n",
    "        print(\"OPEN_NODES\",open_nodes)\n",
    "            \n",
    "        if GOAL_FOUND == True:\n",
    "            return (explored_nodes, GOAL_FOUND)\n",
    "    \n",
    "    return (explored_nodes, GOAL_FOUND)\n",
    "    \n",
    "    "
   ]
  },
  {
   "cell_type": "code",
   "execution_count": 291,
   "metadata": {},
   "outputs": [
    {
     "name": "stdout",
     "output_type": "stream",
     "text": [
      "BLYAT {8: [[array([[10,  1,  2,  3],\n",
      "       [ 4,  5,  6,  7],\n",
      "       [ 8,  9,  0, 11]]), 'up']]}\n",
      ">>>>>>>>>>>>>>> [[[array([[10,  1,  2,  3],\n",
      "       [ 4,  5,  6,  7],\n",
      "       [ 8,  9,  0, 11]]), 'up']]]\n",
      "KLYST 8\n",
      "//////////////// [[array([[10,  1,  2,  3],\n",
      "       [ 4,  5,  6,  7],\n",
      "       [ 8,  9,  0, 11]]), 'up']]\n",
      "ITEM-> [array([[10,  1,  2,  3],\n",
      "       [ 4,  5,  6,  7],\n",
      "       [ 8,  9,  0, 11]]), 'up']\n",
      "<class 'list'>\n",
      "<class 'list'>\n",
      "find_neighbor [array([[10,  1,  2,  3],\n",
      "       [ 4,  5,  6,  7],\n",
      "       [ 8,  9,  0, 11]]), 'up']\n",
      "OPEN []\n",
      "EXP_LIST [[[10, 1, 2, 3], [4, 5, 6, 7], [8, 9, 0, 11]]]\n",
      "1\n",
      "HERE  [[10  1  2  3]\n",
      " [ 4  5  0  7]\n",
      " [ 8  9  6 11]]8\n",
      "2\n",
      "HERE  [[10  1  2  3]\n",
      " [ 4  5  6  0]\n",
      " [ 8  9  7 11]]10\n",
      "3\n",
      "HERE  [[10  1  2  3]\n",
      " [ 4  5  6  7]\n",
      " [ 8  9 11  0]]10\n",
      "4\n",
      "HERE  [[10  1  2  3]\n",
      " [ 4  5  6  7]\n",
      " [ 8  0  9 11]]8\n",
      "5\n",
      "HERE  [[10  1  2  3]\n",
      " [ 4  0  6  7]\n",
      " [ 8  9  5 11]]8\n",
      "OPEN_NODES {8: [[array([[10,  1,  2,  3],\n",
      "       [ 4,  5,  0,  7],\n",
      "       [ 8,  9,  6, 11]]), 'up'], [array([[10,  1,  2,  3],\n",
      "       [ 4,  5,  6,  7],\n",
      "       [ 8,  0,  9, 11]]), 'left'], [array([[10,  1,  2,  3],\n",
      "       [ 4,  0,  6,  7],\n",
      "       [ 8,  9,  5, 11]]), 'up-left']], 10: [[array([[10,  1,  2,  3],\n",
      "       [ 4,  5,  6,  0],\n",
      "       [ 8,  9,  7, 11]]), 'up-right'], [array([[10,  1,  2,  3],\n",
      "       [ 4,  5,  6,  7],\n",
      "       [ 8,  9, 11,  0]]), 'right']]}\n",
      "KLYST 8\n",
      "//////////////// [[array([[10,  1,  2,  3],\n",
      "       [ 4,  5,  0,  7],\n",
      "       [ 8,  9,  6, 11]]), 'up'], [array([[10,  1,  2,  3],\n",
      "       [ 4,  5,  6,  7],\n",
      "       [ 8,  0,  9, 11]]), 'left'], [array([[10,  1,  2,  3],\n",
      "       [ 4,  0,  6,  7],\n",
      "       [ 8,  9,  5, 11]]), 'up-left']]\n",
      "ITEM-> [array([[10,  1,  2,  3],\n",
      "       [ 4,  5,  0,  7],\n",
      "       [ 8,  9,  6, 11]]), 'up']\n",
      "<class 'list'>\n",
      "<class 'list'>\n",
      "find_neighbor [array([[10,  1,  2,  3],\n",
      "       [ 4,  5,  0,  7],\n",
      "       [ 8,  9,  6, 11]]), 'up']\n",
      "OPEN [[[10, 1, 2, 3], [4, 5, 6, 7], [8, 0, 9, 11]], [[10, 1, 2, 3], [4, 0, 6, 7], [8, 9, 5, 11]], [[10, 1, 2, 3], [4, 5, 6, 0], [8, 9, 7, 11]], [[10, 1, 2, 3], [4, 5, 6, 7], [8, 9, 11, 0]]]\n",
      "EXP_LIST [[[10, 1, 2, 3], [4, 5, 6, 7], [8, 9, 0, 11]], [[10, 1, 2, 3], [4, 5, 0, 7], [8, 9, 6, 11]]]\n",
      "1\n",
      "HERE  [[10  1  0  3]\n",
      " [ 4  5  2  7]\n",
      " [ 8  9  6 11]]8\n",
      "2\n",
      "HERE  [[10  1  2  0]\n",
      " [ 4  5  3  7]\n",
      " [ 8  9  6 11]]10\n",
      "3\n",
      "HERE  [[10  1  2  3]\n",
      " [ 4  5  7  0]\n",
      " [ 8  9  6 11]]10\n",
      "4\n",
      "HERE  [[10  1  2  3]\n",
      " [ 4  5 11  7]\n",
      " [ 8  9  6  0]]12\n",
      "5\n",
      "HERE  [[10  1  2  3]\n",
      " [ 4  5  6  7]\n",
      " [ 8  9  0 11]]6\n",
      "HERE  [[10  1  2  3]\n",
      " [ 4  5  9  7]\n",
      " [ 8  0  6 11]]10\n",
      "7\n",
      "HERE  [[10  1  2  3]\n",
      " [ 4  0  5  7]\n",
      " [ 8  9  6 11]]8\n",
      "8\n",
      "HERE  [[10  0  2  3]\n",
      " [ 4  5  1  7]\n",
      " [ 8  9  6 11]]8\n",
      "OPEN_NODES {8: [[array([[10,  1,  2,  3],\n",
      "       [ 4,  5,  6,  7],\n",
      "       [ 8,  0,  9, 11]]), 'left'], [array([[10,  1,  2,  3],\n",
      "       [ 4,  0,  6,  7],\n",
      "       [ 8,  9,  5, 11]]), 'up-left'], [array([[10,  1,  0,  3],\n",
      "       [ 4,  5,  2,  7],\n",
      "       [ 8,  9,  6, 11]]), 'up'], [array([[10,  1,  2,  3],\n",
      "       [ 4,  0,  5,  7],\n",
      "       [ 8,  9,  6, 11]]), 'left'], [array([[10,  0,  2,  3],\n",
      "       [ 4,  5,  1,  7],\n",
      "       [ 8,  9,  6, 11]]), 'up-left']], 10: [[array([[10,  1,  2,  3],\n",
      "       [ 4,  5,  6,  0],\n",
      "       [ 8,  9,  7, 11]]), 'up-right'], [array([[10,  1,  2,  3],\n",
      "       [ 4,  5,  6,  7],\n",
      "       [ 8,  9, 11,  0]]), 'right'], [array([[10,  1,  2,  0],\n",
      "       [ 4,  5,  3,  7],\n",
      "       [ 8,  9,  6, 11]]), 'up-right'], [array([[10,  1,  2,  3],\n",
      "       [ 4,  5,  7,  0],\n",
      "       [ 8,  9,  6, 11]]), 'right'], [array([[10,  1,  2,  3],\n",
      "       [ 4,  5,  9,  7],\n",
      "       [ 8,  0,  6, 11]]), 'down-left']], 12: [[array([[10,  1,  2,  3],\n",
      "       [ 4,  5, 11,  7],\n",
      "       [ 8,  9,  6,  0]]), 'down-right']]}\n",
      "KLYST 8\n",
      "//////////////// [[array([[10,  1,  2,  3],\n",
      "       [ 4,  5,  6,  7],\n",
      "       [ 8,  0,  9, 11]]), 'left'], [array([[10,  1,  2,  3],\n",
      "       [ 4,  0,  6,  7],\n",
      "       [ 8,  9,  5, 11]]), 'up-left'], [array([[10,  1,  0,  3],\n",
      "       [ 4,  5,  2,  7],\n",
      "       [ 8,  9,  6, 11]]), 'up'], [array([[10,  1,  2,  3],\n",
      "       [ 4,  0,  5,  7],\n",
      "       [ 8,  9,  6, 11]]), 'left'], [array([[10,  0,  2,  3],\n",
      "       [ 4,  5,  1,  7],\n",
      "       [ 8,  9,  6, 11]]), 'up-left']]\n",
      "ITEM-> [array([[10,  1,  0,  3],\n",
      "       [ 4,  5,  2,  7],\n",
      "       [ 8,  9,  6, 11]]), 'up']\n",
      "<class 'list'>\n",
      "<class 'list'>\n"
     ]
    },
    {
     "ename": "ValueError",
     "evalue": "The truth value of an array with more than one element is ambiguous. Use a.any() or a.all()",
     "output_type": "error",
     "traceback": [
      "\u001b[1;31m---------------------------------------------------------------------------\u001b[0m",
      "\u001b[1;31mValueError\u001b[0m                                Traceback (most recent call last)",
      "\u001b[1;32m<ipython-input-291-11b2735e54f1>\u001b[0m in \u001b[0;36m<module>\u001b[1;34m()\u001b[0m\n\u001b[1;32m----> 1\u001b[1;33m \u001b[0ma\u001b[0m\u001b[1;33m,\u001b[0m \u001b[0mb\u001b[0m \u001b[1;33m=\u001b[0m \u001b[0mbest_first_search\u001b[0m\u001b[1;33m(\u001b[0m\u001b[0my\u001b[0m\u001b[1;33m,\u001b[0m \u001b[0mx\u001b[0m\u001b[1;33m,\u001b[0m \u001b[0mmanhattan_h\u001b[0m\u001b[1;33m)\u001b[0m\u001b[1;33m\u001b[0m\u001b[0m\n\u001b[0m\u001b[0;32m      2\u001b[0m \u001b[1;32mfor\u001b[0m \u001b[0mmoves\u001b[0m \u001b[1;32min\u001b[0m \u001b[0ma\u001b[0m\u001b[1;33m:\u001b[0m\u001b[1;33m\u001b[0m\u001b[0m\n\u001b[0;32m      3\u001b[0m     \u001b[0mprint\u001b[0m\u001b[1;33m(\u001b[0m\u001b[0mmoves\u001b[0m\u001b[1;33m[\u001b[0m\u001b[1;36m0\u001b[0m\u001b[1;33m]\u001b[0m\u001b[1;33m,\u001b[0m\u001b[0mmoves\u001b[0m\u001b[1;33m[\u001b[0m\u001b[1;36m1\u001b[0m\u001b[1;33m]\u001b[0m\u001b[1;33m)\u001b[0m\u001b[1;33m\u001b[0m\u001b[0m\n",
      "\u001b[1;32m<ipython-input-290-31c8e264c316>\u001b[0m in \u001b[0;36mbest_first_search\u001b[1;34m(curr_state, goal_state, heuristic)\u001b[0m\n\u001b[0;32m     41\u001b[0m                     \u001b[0mprint\u001b[0m\u001b[1;33m(\u001b[0m\u001b[0mtype\u001b[0m\u001b[1;33m(\u001b[0m\u001b[0mopen_nodes\u001b[0m\u001b[1;33m[\u001b[0m\u001b[0mkeylist\u001b[0m\u001b[1;33m[\u001b[0m\u001b[1;36m0\u001b[0m\u001b[1;33m]\u001b[0m\u001b[1;33m]\u001b[0m\u001b[1;33m)\u001b[0m\u001b[1;33m)\u001b[0m\u001b[1;33m\u001b[0m\u001b[0m\n\u001b[0;32m     42\u001b[0m                     \u001b[0mprint\u001b[0m\u001b[1;33m(\u001b[0m\u001b[0mtype\u001b[0m\u001b[1;33m(\u001b[0m\u001b[0mitem\u001b[0m\u001b[1;33m)\u001b[0m\u001b[1;33m)\u001b[0m\u001b[1;33m\u001b[0m\u001b[0m\n\u001b[1;32m---> 43\u001b[1;33m                     \u001b[0mopen_nodes\u001b[0m\u001b[1;33m[\u001b[0m\u001b[0mkeylist\u001b[0m\u001b[1;33m[\u001b[0m\u001b[1;36m0\u001b[0m\u001b[1;33m]\u001b[0m\u001b[1;33m]\u001b[0m\u001b[1;33m.\u001b[0m\u001b[0mremove\u001b[0m\u001b[1;33m(\u001b[0m\u001b[0mitem\u001b[0m\u001b[1;33m)\u001b[0m\u001b[1;33m\u001b[0m\u001b[0m\n\u001b[0m\u001b[0;32m     44\u001b[0m                     \u001b[0mfind_neighbor_node\u001b[0m \u001b[1;33m=\u001b[0m \u001b[0mitem\u001b[0m\u001b[1;33m\u001b[0m\u001b[0m\n\u001b[0;32m     45\u001b[0m                     \u001b[0mtemp\u001b[0m \u001b[1;33m=\u001b[0m \u001b[1;32mTrue\u001b[0m\u001b[1;33m\u001b[0m\u001b[0m\n",
      "\u001b[1;31mValueError\u001b[0m: The truth value of an array with more than one element is ambiguous. Use a.any() or a.all()"
     ]
    }
   ],
   "source": [
    "a, b = best_first_search(y, x, manhattan_h)\n",
    "for moves in a:\n",
    "    print(moves[0],moves[1])"
   ]
  },
  {
   "cell_type": "code",
   "execution_count": 21,
   "metadata": {},
   "outputs": [
    {
     "name": "stdout",
     "output_type": "stream",
     "text": [
      "[-1, 0, 1, 2]\n",
      "[1, 0, 1, 2]\n",
      "[0, -1, 1, 2]\n",
      "[0, 1, 1, 2]\n",
      "[-1, -1, 1, 2]\n",
      "[1, 1, 1, 2]\n",
      "[1, -1, 1, 2]\n",
      "[-1, 1, 1, 2]\n"
     ]
    }
   ],
   "source": [
    "x = [1,2]\n",
    "z = [[-1,0],[1,0],[0,-1],[0,+1],[-1,-1],[1,1],[1,-1],[-1,1]]\n",
    "for item in z:\n",
    "    item = item + x\n",
    "    print(item)\n"
   ]
  },
  {
   "cell_type": "code",
   "execution_count": 72,
   "metadata": {},
   "outputs": [
    {
     "name": "stdout",
     "output_type": "stream",
     "text": [
      "(1, 2)\n"
     ]
    }
   ],
   "source": [
    "print(tuple([1,2]))"
   ]
  },
  {
   "cell_type": "code",
   "execution_count": 277,
   "metadata": {},
   "outputs": [
    {
     "name": "stdout",
     "output_type": "stream",
     "text": [
      "{1: [12, 34, 2], 2: 1, 3: 'dadsdsd'}\n",
      "[12, 34, 2]\n",
      "2\n",
      "{1: [12, 34], 2: 1, 3: 'dadsdsd'}\n"
     ]
    }
   ],
   "source": [
    "dic = {}\n",
    "dic.setdefault(1,[]).append(12)\n",
    "dic[2]=1\n",
    "dic.setdefault(1,[]).append(34)\n",
    "dic[1].append(2)\n",
    "dic[3]=\"dadsdsd\"\n",
    "print(dic)\n",
    "klst = list(dic.keys())\n",
    "# print(klst)\n",
    "print(dic[1])\n",
    "for item in dic[klst[0]]:\n",
    "    if item == 2:\n",
    "        dic[klst[0]].remove(item)\n",
    "        print(item)\n",
    "        break\n",
    "        \n",
    "print(dic)\n",
    "# print(list(dic.values()))\n",
    "# print(dic[2])"
   ]
  },
  {
   "cell_type": "code",
   "execution_count": 105,
   "metadata": {},
   "outputs": [
    {
     "name": "stdout",
     "output_type": "stream",
     "text": [
      "[0, 461168601842738816, 2075258708292324608, 1, 2, 3]\n"
     ]
    }
   ],
   "source": [
    "print(list(map(hash, [0,0.2,0.9, 1, 2, 3])))\n"
   ]
  },
  {
   "cell_type": "code",
   "execution_count": 247,
   "metadata": {},
   "outputs": [
    {
     "name": "stdout",
     "output_type": "stream",
     "text": [
      "abba dabba jabba\n"
     ]
    }
   ],
   "source": [
    "d = []\n",
    "if d == []:\n",
    "    print(\"abba dabba jabba\")\n",
    "for j in d:\n",
    "    if j == None:\n",
    "        print(\"Booya!\")"
   ]
  },
  {
   "cell_type": "code",
   "execution_count": 255,
   "metadata": {},
   "outputs": [
    {
     "name": "stdout",
     "output_type": "stream",
     "text": [
      "a\n"
     ]
    }
   ],
   "source": [
    "a = \"abcd\"\n",
    "if type(a) == str:\n",
    "    print(\"a\")"
   ]
  },
  {
   "cell_type": "code",
   "execution_count": 262,
   "metadata": {},
   "outputs": [
    {
     "name": "stdout",
     "output_type": "stream",
     "text": [
      "[1, 2, 4, 5, 67, 7]\n"
     ]
    }
   ],
   "source": [
    "lst = [1,2,3,4,5,67,7]\n",
    "lst.remove(3)\n",
    "print(lst)"
   ]
  },
  {
   "cell_type": "code",
   "execution_count": 295,
   "metadata": {},
   "outputs": [
    {
     "name": "stdout",
     "output_type": "stream",
     "text": [
      "[[[1], 2], [[2], 3], [[3], 4]]\n",
      "[[2], 3]\n",
      "{1: [[[1], 2], [[3], 4]], 2: [[[5], 6], [[7], 8]], 3: [[[9], 10], [[11], 12]]}\n"
     ]
    }
   ],
   "source": [
    "dic = {1:[[[1],2],[[2],3],[[3],4]],2:[[[5],6],[[7],8]],3:[[[9],10],[[11],12]]}\n",
    "klst = list(dic.keys())\n",
    "# print(klst)\n",
    "print(dic[1])\n",
    "for item in dic[klst[0]]:\n",
    "    if item == [[2],3]:\n",
    "        dic[klst[0]].remove(item)\n",
    "        print(item)\n",
    "        break\n",
    "        \n",
    "print(dic)\n"
   ]
  },
  {
   "cell_type": "code",
   "execution_count": 296,
   "metadata": {},
   "outputs": [
    {
     "ename": "ValueError",
     "evalue": "The truth value of an array with more than one element is ambiguous. Use a.any() or a.all()",
     "output_type": "error",
     "traceback": [
      "\u001b[1;31m---------------------------------------------------------------------------\u001b[0m",
      "\u001b[1;31mValueError\u001b[0m                                Traceback (most recent call last)",
      "\u001b[1;32m<ipython-input-296-1ed4dbc698be>\u001b[0m in \u001b[0;36m<module>\u001b[1;34m()\u001b[0m\n\u001b[0;32m      1\u001b[0m \u001b[0malist\u001b[0m \u001b[1;33m=\u001b[0m \u001b[1;33m[\u001b[0m\u001b[0mnp\u001b[0m\u001b[1;33m.\u001b[0m\u001b[0marray\u001b[0m\u001b[1;33m(\u001b[0m\u001b[1;33m[\u001b[0m\u001b[1;36m1\u001b[0m\u001b[1;33m,\u001b[0m\u001b[1;36m2\u001b[0m\u001b[1;33m]\u001b[0m\u001b[1;33m)\u001b[0m\u001b[1;33m,\u001b[0m\u001b[0mnp\u001b[0m\u001b[1;33m.\u001b[0m\u001b[0marray\u001b[0m\u001b[1;33m(\u001b[0m\u001b[1;33m[\u001b[0m\u001b[1;36m3\u001b[0m\u001b[1;33m,\u001b[0m\u001b[1;36m4\u001b[0m\u001b[1;33m]\u001b[0m\u001b[1;33m)\u001b[0m\u001b[1;33m]\u001b[0m\u001b[1;33m\u001b[0m\u001b[0m\n\u001b[1;32m----> 2\u001b[1;33m \u001b[0malist\u001b[0m\u001b[1;33m.\u001b[0m\u001b[0mremove\u001b[0m\u001b[1;33m(\u001b[0m\u001b[0mnp\u001b[0m\u001b[1;33m.\u001b[0m\u001b[0marray\u001b[0m\u001b[1;33m(\u001b[0m\u001b[1;33m[\u001b[0m\u001b[1;36m1\u001b[0m\u001b[1;33m,\u001b[0m\u001b[1;36m2\u001b[0m\u001b[1;33m]\u001b[0m\u001b[1;33m)\u001b[0m\u001b[1;33m)\u001b[0m\u001b[1;33m\u001b[0m\u001b[0m\n\u001b[0m",
      "\u001b[1;31mValueError\u001b[0m: The truth value of an array with more than one element is ambiguous. Use a.any() or a.all()"
     ]
    }
   ],
   "source": [
    "alist = [np.array([1,2]),np.array([3,4])]\n",
    "alist.remove(np.array([1,2]))"
   ]
  },
  {
   "cell_type": "code",
   "execution_count": null,
   "metadata": {},
   "outputs": [],
   "source": []
  }
 ],
 "metadata": {
  "kernelspec": {
   "display_name": "Python 3",
   "language": "python",
   "name": "python3"
  },
  "language_info": {
   "codemirror_mode": {
    "name": "ipython",
    "version": 3
   },
   "file_extension": ".py",
   "mimetype": "text/x-python",
   "name": "python",
   "nbconvert_exporter": "python",
   "pygments_lexer": "ipython3",
   "version": "3.6.5"
  }
 },
 "nbformat": 4,
 "nbformat_minor": 2
}
